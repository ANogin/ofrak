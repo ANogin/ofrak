{
 "cells": [
  {
   "cell_type": "markdown",
   "id": "d6754287",
   "metadata": {},
   "source": [
    "# Conclusion"
   ]
  },
  {
   "cell_type": "markdown",
   "id": "51bea867",
   "metadata": {},
   "source": [
    "**Congratulations, you've completed the OFRAK tutorial!**\n",
    "\n",
    "Head back to the Getting Started page of the documentation to see what's next!"
   ]
  }
 ],
 "metadata": {
  "kernelspec": {
   "display_name": "Python 3 (ipykernel)",
   "language": "python",
   "name": "python3"
  },
  "language_info": {
   "codemirror_mode": {
    "name": "ipython",
    "version": 3
   },
   "file_extension": ".py",
   "mimetype": "text/x-python",
   "name": "python",
   "nbconvert_exporter": "python",
   "pygments_lexer": "ipython3",
   "version": "3.7.13"
  }
 },
 "nbformat": 4,
 "nbformat_minor": 5
}
